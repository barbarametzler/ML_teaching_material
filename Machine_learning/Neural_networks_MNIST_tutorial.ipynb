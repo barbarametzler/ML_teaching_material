{
 "cells": [
  {
   "cell_type": "markdown",
   "metadata": {},
   "source": [
    "## Neural networks in action\n",
    "\n",
    "In this tutorial we'll be looking at the building blocks of neural networks and how to implement them in Python with the ```pytorch``` library.\n",
    "\n",
    "\n",
    "### Content:\n",
    "- MNIST Dataset \n",
    "\n",
    "- Supervised neural networks\n",
    "    - Neural networks:\n",
    "        - Single-Layer Feed-Forward NN\n",
    "        - Multi-Layer Feed-Forward NN\n",
    "- Unsupervised neural networks\n",
    "    - Autoencoder\n",
    "    \n",
    "- Convolutional neural network (sneak peek)\n"
   ]
  },
  {
   "cell_type": "markdown",
   "metadata": {},
   "source": [
    "### Dataset\n",
    "In this practical, we will work with the hand-written digit classification dataset, [MNIST](http://yann.lecun.com/exdb/mnist/).\n",
    "\n",
    "![](img/mnist.png)"
   ]
  },
  {
   "cell_type": "markdown",
   "metadata": {},
   "source": [
    "MNIST (\"Modified National Institute of Standards and Technology\") is probably one of the most commonly used datsets in computer vision. Since its release in 1999, this classic dataset of handwritten images has served as the basis for benchmarking classification algorithms. \n",
    "\n",
    "The dataset consists of 10,000 labelled 28 x 28 pixel images of handwritten digets."
   ]
  },
  {
   "cell_type": "markdown",
   "metadata": {},
   "source": [
    "#### Feed-Forward Neural Networks\n",
    "are artificial neural network wherein connections between the nodes do not form any loops or cycles and -as the name says- feed the information forward.\n",
    "\n",
    "![](img/nn.png)\n",
    "\n",
    "#### Single-Layer Feed-Forward NN\n",
    "The simplest kind of neural network is a single-layer perceptron network, which consists of a single layer of output nodes; the inputs are fed directly to the outputs via a series of weights. \n",
    "\n",
    "#### Multi-Layer Feed-Forward NN\n",
    "A multi-layer neural network contains more than one layer of artificial neurons or nodes. They differ widely in design. It is important to note that while single-layer neural networks were useful early in the evolution of AI, the vast majority of networks used today have a multi-layer model. Multi-layer neural networks can be set up in numerous ways. Typically, they have at least one input layer, which sends weighted inputs to a series of hidden layers, and an output layer at the end.\n",
    "\n",
    "#### Autoencoder\n",
    "Autoencoders are an unsupervised learning technique in which we leverage neural networks for the task of representation learning. Specifically, we'll design a neural network architecture such that we impose a bottleneck in the network which forces a compressed knowledge representation of the original input. If the input features were each independent of one another, this compression and subsequent reconstruction would be a very difficult task. However, if some sort of structure exists in the data (ie. correlations between input features), this structure can be learned and consequently leveraged when forcing the input through the network's bottleneck.\n",
    "\n",
    "![](img/autoen.png)\n",
    "\n",
    "The picture shows the destinct architecture of an autoencoder that consists of a encoder (left next to bottlenecck) and decoder network (right).\n",
    "\n",
    "#### Convolutional Neural Network\n",
    "You'll learn more about CNNs next week, but this tutorial includes a small intro into their architecture. CNN have special layers - convolutional layers - that are great at picking up on patterns in the input image, such as lines, gradients, circles, or even eyes and faces. It is this property that makes CNNs so powerful for computer vision. \n",
    "\n",
    "\n",
    "\n",
    "###  Building blocks ('layers') of neural networks\n",
    "\n",
    "**Input or Visible Layers**\n",
    "The bottom layer that takes input from your dataset is called the visible layer, because it is the exposed part of the network. Often a neural network is drawn with a visible layer with one neuron per input value or column in your dataset. These are not neurons as described above, but simply pass the input value though to the next layer.\n",
    "\n",
    "**Hidden Layers**\n",
    "Layers after the input layer are called hidden layers because that are not directly exposed to the input. The simplest network structure is to have a single neuron in the hidden layer that directly outputs the value.\n",
    "\n",
    "Given increases in computing power and efficient libraries, very deep neural networks can be constructed. Deep learning can refer to having many hidden layers in your neural network. They are deep because they would have been unimaginably slow to train historically, but may take seconds or minutes to train using modern techniques and hardware.\n",
    "\n",
    "**Output Layer**\n",
    "The final hidden layer is called the output layer and it is responsible for outputting a value or vector of values that correspond to the format required for the problem.\n",
    "\n",
    "The choice of activation function in the output layer is strongly constrained by the type of problem that you are modeling. \n",
    "\n"
   ]
  },
  {
   "cell_type": "markdown",
   "metadata": {},
   "source": [
    "The two mainstream neural network libraries are TensorFlow by Google and PyTorch by Facebook. We will use PyTorch for this practical. Please install the package first, following the instruction. In most cases, you simply need to run the following command on your computer:\n",
    "\n",
    "```pip3 install torch torchvision```"
   ]
  },
  {
   "cell_type": "code",
   "execution_count": 2,
   "metadata": {},
   "outputs": [],
   "source": [
    "# Import libaries\n",
    "import numpy as np\n",
    "import pandas as pd\n",
    "import os\n",
    "import gzip\n",
    "import struct\n",
    "import time\n",
    "import random\n",
    "import torch\n",
    "import torch.nn as nn\n",
    "import torch.nn.functional as F\n",
    "import torch.optim as optim\n",
    "\n",
    "import torchvision\n",
    "import torchvision.transforms as transforms\n",
    "\n",
    "import matplotlib.pyplot as plt\n",
    "%matplotlib inline"
   ]
  },
  {
   "cell_type": "code",
   "execution_count": 24,
   "metadata": {},
   "outputs": [],
   "source": [
    "#Since most of you use laptops, we use CPU for training.\n",
    "device = 'cpu'\n",
    "# If some of you would like to try GPU. You can set the device to be CUDA.\n",
    "# device = torch.device('cuda' if torch.cuda.is_available() else 'cpu')"
   ]
  },
  {
   "cell_type": "markdown",
   "metadata": {},
   "source": [
    "To load the dataset we will be using a function by the ```torchvision``` library. It automatically downloads the dataset and saves it in the 'data' folder. We further transfer the images into tensors. A ```torch.Tensor``` is a multi-dimensional matrix containing elements of a single data type."
   ]
  },
  {
   "cell_type": "code",
   "execution_count": 7,
   "metadata": {},
   "outputs": [],
   "source": [
    "## Loading the dataset\n",
    "# MNIST dataset (images and labels)\n",
    "train_dataset = torchvision.datasets.MNIST(root='data', \n",
    "                                           train=True, \n",
    "                                           transform=transforms.ToTensor(),\n",
    "                                           download=False) ## you can set this to False, if you already downloaded it\n",
    "\n",
    "test_dataset = torchvision.datasets.MNIST(root='data', \n",
    "                                          train=False, \n",
    "                                          transform=transforms.ToTensor(),\n",
    "                                          download=False)"
   ]
  },
  {
   "cell_type": "markdown",
   "metadata": {},
   "source": [
    "##### Choosing optimizer and criterion\n",
    "\n",
    "For this tutorial we'll be using a little upgrade to the 'basic' stochastic gradient descent (SGD), the **Adam** optimizer. While stochastic gradient descent maintains a single learning rate (termed alpha) for all weight updates and the learning rate does not change during training. Adam is an optimization algorithm that can be used instead of the classical stochastic gradient descent procedure to update network weights iteratively based in training data. The Adam optimizer combines the best properties of the AdaGrad and RMSProp algorithms to provide an optimization algorithm that can handle sparse gradients on noisy problems. It is relatively easy to configure while the default configuration parameters do well on most problems.\n",
    "\n",
    "In practice Adam is currently recommended as the default algorithm to use, and often works slightly better than RMSProp. However, it is often also worth trying SGD+Nesterov Momentum as an alternative.\n",
    "\n",
    "Criterion: Because this is a multi-class classification problem we'll be using the ```CrossEntropyLoss```. \n",
    "\n",
    "More information on choosing a suitable loss function: https://machinelearningmastery.com/loss-and-loss-functions-for-training-deep-learning-neural-networks/\n",
    "\n",
    "\n",
    "##### Choice of hyper-parameters\n",
    "\n",
    "- **input size:** This should be the size of the MNIST image (28 * 28)\n",
    "- **number of classes:** There's 10 different classes in the MNIST dataset\n",
    "- **number of epochs:** An epoch can is one cycle through the entire training dataset. The number of epoch decides the number of times the weights in the neural network will get updated. The model training should occur on an optimal number of epochs to increase its generalization capacity. There is no fixed number of epochs that will improve your model performance. The number of epochs is actually not that important in comparison to the training and validation loss (i.e. the error). As long as these two losses continue to decrease, the training should continue. In this tutorial we'll keep the number of epochs low for time constraints.\n",
    "- **batch size:** The batch size is a hyperparameter that defines the number of samples to work through before updating the internal model parameters. In general: Larger batch sizes result in faster progress in training, but don't always converge as fast. Smaller batch sizes train slower, but can converge faster. It's definitely problem and hardware (CPU or GPU) dependent.\n",
    "- **learning rate:** The amount that the weights are updated during training is referred to as the step size or the “learning rate.” Specifically, the learning rate is a configurable hyperparameter used in the training of neural networks that has a small positive value, often in the range between 0.0 and 1.0. 0.1 is commonly used as default value."
   ]
  },
  {
   "cell_type": "code",
   "execution_count": 20,
   "metadata": {},
   "outputs": [],
   "source": [
    "# Hyper-parameters \n",
    "input_size = 28 * 28    # 784\n",
    "num_classes = 10\n",
    "num_epochs = 5\n",
    "batch_size = 100\n",
    "learning_rate = 0.1"
   ]
  },
  {
   "cell_type": "code",
   "execution_count": 9,
   "metadata": {},
   "outputs": [],
   "source": [
    "# Data loader (input pipeline)\n",
    "train_loader = torch.utils.data.DataLoader(dataset=train_dataset, \n",
    "                                           batch_size=batch_size, \n",
    "                                           shuffle=True)\n",
    "\n",
    "test_loader = torch.utils.data.DataLoader(dataset=test_dataset, \n",
    "                                          batch_size=batch_size, \n",
    "                                          shuffle=False)"
   ]
  },
  {
   "cell_type": "markdown",
   "metadata": {},
   "source": [
    "## Dataset\n",
    "\n",
    "Let's visualise one of the examples of our dataset."
   ]
  },
  {
   "cell_type": "code",
   "execution_count": 10,
   "metadata": {},
   "outputs": [
    {
     "data": {
      "text/plain": [
       "<matplotlib.image.AxesImage at 0x7f2dfc27fa90>"
      ]
     },
     "execution_count": 10,
     "metadata": {},
     "output_type": "execute_result"
    },
    {
     "data": {
      "image/png": "[encoded data removed]",
      "text/plain": [
       "<Figure size 360x360 with 1 Axes>"
      ]
     },
     "metadata": {
      "needs_background": "light"
     },
     "output_type": "display_data"
    }
   ],
   "source": [
    "# obtain one batch of training images\n",
    "dataiter = iter(train_loader)\n",
    "images, labels = dataiter.next()\n",
    "images = images.numpy()\n",
    "\n",
    "# get one image from the batch\n",
    "img = np.squeeze(images[0])\n",
    "\n",
    "fig = plt.figure(figsize = (5,5)) \n",
    "ax = fig.add_subplot(111)\n",
    "ax.imshow(img, cmap='gray')"
   ]
  },
  {
   "cell_type": "code",
   "execution_count": 11,
   "metadata": {},
   "outputs": [
    {
     "data": {
      "text/plain": [
       "2"
      ]
     },
     "execution_count": 11,
     "metadata": {},
     "output_type": "execute_result"
    }
   ],
   "source": [
    "# obtain the label for the image\n",
    "labels = labels.numpy()\n",
    "lab = np.squeeze(labels[0])\n",
    "lab"
   ]
  },
  {
   "cell_type": "markdown",
   "metadata": {},
   "source": [
    "In this tutorial, we will look at different network architectures and how you can build them yourself. As seen in the last tutorial, networks consist of multiple layers. The simplest layer is probably a linear layer - which is basically a simple logistic regression. A linear layer is defined as ```nn.Linear``` in pytorch. "
   ]
  },
  {
   "cell_type": "markdown",
   "metadata": {},
   "source": [
    "### Single-Layer Feed-Forward NN\n",
    "The simplest kind of neural network is a single-layer perceptron network, which consists of a single layer of output nodes; the inputs are fed directly to the outputs via a series of weights. \n",
    "\n",
    "Here we are using a ```nn.Linear``` layer which corresponds to a logistic model."
   ]
  },
  {
   "cell_type": "code",
   "execution_count": 17,
   "metadata": {},
   "outputs": [],
   "source": [
    "# Logistic model\n",
    "lin_model = nn.Linear(input_size, num_classes)"
   ]
  },
  {
   "cell_type": "code",
   "execution_count": 18,
   "metadata": {},
   "outputs": [],
   "source": [
    "# Loss and optimizer\n",
    "# nn.CrossEntropyLoss() computes softmax internally\n",
    "criterion = nn.CrossEntropyLoss()  \n",
    "optimizer = torch.optim.Adam(model.parameters(), lr=learning_rate)  "
   ]
  },
  {
   "cell_type": "code",
   "execution_count": 21,
   "metadata": {},
   "outputs": [
    {
     "name": "stdout",
     "output_type": "stream",
     "text": [
      "Epoch [1/5], Step [100/600], Loss: 2.3014\n",
      "Epoch [1/5], Step [200/600], Loss: 2.3090\n",
      "Epoch [1/5], Step [300/600], Loss: 2.3140\n",
      "Epoch [1/5], Step [400/600], Loss: 2.2966\n",
      "Epoch [1/5], Step [500/600], Loss: 2.2859\n",
      "Epoch [1/5], Step [600/600], Loss: 2.3105\n",
      "Epoch [2/5], Step [100/600], Loss: 2.3123\n",
      "Epoch [2/5], Step [200/600], Loss: 2.3440\n",
      "Epoch [2/5], Step [300/600], Loss: 2.2905\n",
      "Epoch [2/5], Step [400/600], Loss: 2.3081\n",
      "Epoch [2/5], Step [500/600], Loss: 2.3128\n",
      "Epoch [2/5], Step [600/600], Loss: 2.3100\n",
      "Epoch [3/5], Step [100/600], Loss: 2.2914\n",
      "Epoch [3/5], Step [200/600], Loss: 2.3184\n",
      "Epoch [3/5], Step [300/600], Loss: 2.3122\n",
      "Epoch [3/5], Step [400/600], Loss: 2.3553\n",
      "Epoch [3/5], Step [500/600], Loss: 2.2841\n",
      "Epoch [3/5], Step [600/600], Loss: 2.2979\n",
      "Epoch [4/5], Step [100/600], Loss: 2.3127\n",
      "Epoch [4/5], Step [200/600], Loss: 2.3464\n",
      "Epoch [4/5], Step [300/600], Loss: 2.3111\n",
      "Epoch [4/5], Step [400/600], Loss: 2.3353\n",
      "Epoch [4/5], Step [500/600], Loss: 2.3148\n",
      "Epoch [4/5], Step [600/600], Loss: 2.3313\n",
      "Epoch [5/5], Step [100/600], Loss: 2.3152\n",
      "Epoch [5/5], Step [200/600], Loss: 2.3115\n",
      "Epoch [5/5], Step [300/600], Loss: 2.3147\n",
      "Epoch [5/5], Step [400/600], Loss: 2.2990\n",
      "Epoch [5/5], Step [500/600], Loss: 2.3173\n",
      "Epoch [5/5], Step [600/600], Loss: 2.3373\n",
      "Accuracy of the model on the 10000 test images: 11 %\n"
     ]
    }
   ],
   "source": [
    "# Train the model\n",
    "total_step = len(train_loader)\n",
    "for epoch in range(num_epochs):\n",
    "    for i, (images, labels) in enumerate(train_loader):\n",
    "        # Reshape images to (batch_size, input_size)\n",
    "        images = images.reshape(-1, input_size)\n",
    "        \n",
    "        # Forward pass\n",
    "        outputs = lin_model(images)\n",
    "        loss = criterion(outputs, labels)\n",
    "        \n",
    "        # Backward and optimize\n",
    "        optimizer.zero_grad()\n",
    "        loss.backward()\n",
    "        optimizer.step()\n",
    "        \n",
    "        if (i+1) % 100 == 0:\n",
    "            print ('Epoch [{}/{}], Step [{}/{}], Loss: {:.4f}' \n",
    "                   .format(epoch+1, num_epochs, i+1, total_step, loss.item()))\n",
    "\n",
    "# Test the model\n",
    "# In test phase, we don't need to compute gradients (for memory efficiency)\n",
    "with torch.no_grad():\n",
    "    correct = 0\n",
    "    total = 0\n",
    "    for images, labels in test_loader:\n",
    "        images = images.reshape(-1, input_size)\n",
    "        outputs = lin_model(images)\n",
    "        _, predicted = torch.max(outputs.data, 1)\n",
    "        total += labels.size(0)\n",
    "        correct += (predicted == labels).sum()\n",
    "\n",
    "    print('Accuracy of the model on the 10000 test images: {} %'.format(100 * correct / total))\n",
    "\n",
    "# Save the model checkpoint\n",
    "torch.save(lin_model.state_dict(), 'linear_model.ckpt')"
   ]
  },
  {
   "cell_type": "markdown",
   "metadata": {},
   "source": [
    "11% accuracy - We can do better than that!"
   ]
  },
  {
   "cell_type": "code",
   "execution_count": 15,
   "metadata": {},
   "outputs": [],
   "source": [
    "#Load model (after saving it)\n",
    "#lin_model.load_state_dict(torch.load('linear_model.ckpt'))\n",
    "#lin_model.eval()"
   ]
  },
  {
   "cell_type": "markdown",
   "metadata": {},
   "source": [
    "### Multi-Layer Feed-Forward NN\n",
    "\n",
    "An multi-layer network consists of at least three layers of nodes: an input layer, a hidden layer and an output layer. Except for the input nodes, each node is a neuron that uses a nonlinear activation function. Its multiple layers and non-linear activation distinguish multi-layer network from a linear perceptron. \n",
    "\n",
    "\n",
    "Choice of number of hidden layers: Unfortunately, there is no way to select automatically the number of layers and neurons in each layer. One issue within this subject on which there is a consensus is the performance difference from adding additional hidden layers: the situations in which performance improves with a second (or third, etc.) hidden layer are very few. One hidden layer is sufficient for the large majority of problems.\n",
    "\n",
    "```hidden_size``` is the number of nodes in one hidden layer. There is a rule of thumb on how to choose the number of nodes in the layer: The number of hidden neurons should be 2/3 the size of the input layer, plus the size of the output layer. The number of hidden neurons should be less than twice the size of the input layer. This hyperparameter can be easily tuned."
   ]
  },
  {
   "cell_type": "code",
   "execution_count": 22,
   "metadata": {},
   "outputs": [],
   "source": [
    "# Hyper-parameters \n",
    "input_size = 784\n",
    "hidden_size = 500\n",
    "num_classes = 10\n",
    "num_epochs = 5\n",
    "batch_size = 100\n",
    "learning_rate = 0.1"
   ]
  },
  {
   "cell_type": "code",
   "execution_count": 25,
   "metadata": {},
   "outputs": [],
   "source": [
    "# Fully connected neural network with one hidden layer\n",
    "class NeuralNet(nn.Module):\n",
    "    def __init__(self, input_size, hidden_size, num_classes):\n",
    "        super(NeuralNet, self).__init__()\n",
    "        self.fc1 = nn.Linear(input_size, hidden_size) # 1st Full-Connected Layer: 784 (input data) -> 500 (hidden node)\n",
    "        self.relu = nn.ReLU() # Non-Linear ReLU Layer: max(0,x)\n",
    "        self.fc2 = nn.Linear(hidden_size, num_classes)  # 2nd Full-Connected Layer: 500 (hidden node) -> 10 (output class)\n",
    "    \n",
    "    def forward(self, x): # Forward pass: stacking each layer together\n",
    "        out = self.fc1(x)\n",
    "        out = self.relu(out)\n",
    "        out = self.fc2(out)\n",
    "        return out\n",
    "\n",
    "model_nn = NeuralNet(input_size, hidden_size, num_classes).to(device)\n",
    "\n",
    "# Loss and optimizer\n",
    "criterion = nn.CrossEntropyLoss()\n",
    "optimizer = torch.optim.Adam(model_nn.parameters(), lr=learning_rate)  "
   ]
  },
  {
   "cell_type": "code",
   "execution_count": 27,
   "metadata": {},
   "outputs": [
    {
     "data": {
      "text/plain": [
       "NeuralNet(\n",
       "  (fc1): Linear(in_features=784, out_features=500, bias=True)\n",
       "  (relu): ReLU()\n",
       "  (fc2): Linear(in_features=500, out_features=10, bias=True)\n",
       ")"
      ]
     },
     "execution_count": 27,
     "metadata": {},
     "output_type": "execute_result"
    }
   ],
   "source": [
    "model_nn"
   ]
  },
  {
   "cell_type": "code",
   "execution_count": 28,
   "metadata": {},
   "outputs": [
    {
     "name": "stdout",
     "output_type": "stream",
     "text": [
      "Epoch [1/5], Step [100/600], Loss: 0.5470\n",
      "Epoch [1/5], Step [200/600], Loss: 0.7052\n",
      "Epoch [1/5], Step [300/600], Loss: 0.7047\n",
      "Epoch [1/5], Step [400/600], Loss: 0.8609\n",
      "Epoch [1/5], Step [500/600], Loss: 0.5021\n",
      "Epoch [1/5], Step [600/600], Loss: 0.5029\n",
      "Epoch [2/5], Step [100/600], Loss: 0.4569\n",
      "Epoch [2/5], Step [200/600], Loss: 0.3818\n",
      "Epoch [2/5], Step [300/600], Loss: 0.4070\n",
      "Epoch [2/5], Step [400/600], Loss: 0.4093\n",
      "Epoch [2/5], Step [500/600], Loss: 0.5039\n",
      "Epoch [2/5], Step [600/600], Loss: 0.5905\n",
      "Epoch [3/5], Step [100/600], Loss: 0.3261\n",
      "Epoch [3/5], Step [200/600], Loss: 0.5587\n",
      "Epoch [3/5], Step [300/600], Loss: 0.6692\n",
      "Epoch [3/5], Step [400/600], Loss: 0.6935\n",
      "Epoch [3/5], Step [500/600], Loss: 0.4774\n",
      "Epoch [3/5], Step [600/600], Loss: 0.5603\n",
      "Epoch [4/5], Step [100/600], Loss: 0.9351\n",
      "Epoch [4/5], Step [200/600], Loss: 0.4546\n",
      "Epoch [4/5], Step [300/600], Loss: 0.9326\n",
      "Epoch [4/5], Step [400/600], Loss: 0.3520\n",
      "Epoch [4/5], Step [500/600], Loss: 0.5906\n",
      "Epoch [4/5], Step [600/600], Loss: 2.3497\n",
      "Epoch [5/5], Step [100/600], Loss: 0.4517\n",
      "Epoch [5/5], Step [200/600], Loss: 0.5518\n",
      "Epoch [5/5], Step [300/600], Loss: 0.6619\n",
      "Epoch [5/5], Step [400/600], Loss: 0.7634\n",
      "Epoch [5/5], Step [500/600], Loss: 0.8070\n",
      "Epoch [5/5], Step [600/600], Loss: 0.6424\n",
      "Accuracy of the network on the 10000 test images: 85.91 %\n"
     ]
    }
   ],
   "source": [
    "# Train the model\n",
    "total_step = len(train_loader)\n",
    "for epoch in range(num_epochs):\n",
    "    for i, (images, labels) in enumerate(train_loader):  \n",
    "        # Move tensors to the configured device\n",
    "        images = images.reshape(-1, 28*28).to(device)\n",
    "        labels = labels.to(device)\n",
    "        \n",
    "        # Forward pass\n",
    "        outputs = model_nn(images)\n",
    "        loss = criterion(outputs, labels)\n",
    "        \n",
    "        # Backward and optimize\n",
    "        optimizer.zero_grad()\n",
    "        loss.backward()\n",
    "        optimizer.step()\n",
    "        \n",
    "        if (i+1) % 100 == 0:\n",
    "            print ('Epoch [{}/{}], Step [{}/{}], Loss: {:.4f}' \n",
    "                   .format(epoch+1, num_epochs, i+1, total_step, loss.item()))\n",
    "\n",
    "# Test the model\n",
    "# In test phase, we don't need to compute gradients (for memory efficiency)\n",
    "with torch.no_grad():\n",
    "    correct = 0\n",
    "    total = 0\n",
    "    for images, labels in test_loader:\n",
    "        images = images.reshape(-1, 28*28).to(device)\n",
    "        labels = labels.to(device)\n",
    "        outputs = model_nn(images)\n",
    "        _, predicted = torch.max(outputs.data, 1)\n",
    "        total += labels.size(0)\n",
    "        correct += (predicted == labels).sum().item()\n",
    "\n",
    "    print('Accuracy of the network on the 10000 test images: {} %'.format(100 * correct / total))\n",
    "\n",
    "# Save the model checkpoint\n",
    "torch.save(model_nn.state_dict(), 'nn_model.ckpt')"
   ]
  },
  {
   "cell_type": "markdown",
   "metadata": {},
   "source": [
    "Hey, 85.91% is a pretty good result for a relatively simple neural network and only 5 training epochs."
   ]
  },
  {
   "cell_type": "code",
   "execution_count": null,
   "metadata": {},
   "outputs": [],
   "source": [
    "#Load model (after saving it)\n",
    "#model_nn.load_state_dict(torch.load('nn_model.ckpt'))\n",
    "#model_nn.eval()"
   ]
  },
  {
   "cell_type": "markdown",
   "metadata": {},
   "source": [
    "## Autoencoder"
   ]
  },
  {
   "cell_type": "markdown",
   "metadata": {},
   "source": [
    "An autoencoder is a type of neural network that finds the function mapping the features x to itself. This objective is known as reconstruction, and an autoencoder accomplishes this through the following process: (1) an encoder learns the data representation in lower-dimension space, i.e. extracting the most salient features of the data, and (2) a decoder learns to reconstruct the original data based on the learned representation by the encoder."
   ]
  },
  {
   "cell_type": "markdown",
   "metadata": {},
   "source": [
    "The ```encoding_dim``` is the size of the features at the bottleneck of the network. These features are a lot easier to handle and could be potentially used for further analysis."
   ]
  },
  {
   "cell_type": "code",
   "execution_count": 48,
   "metadata": {},
   "outputs": [],
   "source": [
    "## very simple autoencoder architecture\n",
    "class Autoencoder(nn.Module):\n",
    "    def __init__(self, encoding_dim):\n",
    "        super(Autoencoder, self).__init__()\n",
    "        ## encoder ##\n",
    "        # linear layer (784 -> encoding_dim)\n",
    "        self.fc1 = nn.Linear(28 * 28, encoding_dim)\n",
    "        \n",
    "        ## decoder ##\n",
    "        # linear layer (encoding_dim -> input size)\n",
    "        self.fc2 = nn.Linear(encoding_dim, 28*28)\n",
    "        \n",
    "\n",
    "    def forward(self, x):\n",
    "        # add layer, with relu activation function\n",
    "        x = F.relu(self.fc1(x))\n",
    "        # output layer (sigmoid for scaling from 0 to 1)\n",
    "        x = F.sigmoid(self.fc2(x))\n",
    "        return x"
   ]
  },
  {
   "cell_type": "code",
   "execution_count": 49,
   "metadata": {},
   "outputs": [
    {
     "name": "stdout",
     "output_type": "stream",
     "text": [
      "Autoencoder(\n",
      "  (fc1): Linear(in_features=784, out_features=32, bias=True)\n",
      "  (fc2): Linear(in_features=32, out_features=784, bias=True)\n",
      ")\n"
     ]
    }
   ],
   "source": [
    "# initialize the NN\n",
    "encoding_dim = 32\n",
    "autoencoder = Autoencoder(encoding_dim)\n",
    "print(autoencoder)"
   ]
  },
  {
   "cell_type": "markdown",
   "metadata": {},
   "source": [
    "How do we train an autoencoder? How do we know what kind of \"encoder\" and \"decoder\" we want?\n",
    "\n",
    "One observation is that if we pass an image through the encoder, then pass the result through the decoder, we should get roughly the same image back. Ideally, reducing the dimensionality and then generating the image should give us the same result.\n",
    "\n",
    "This observation provides us a training strategy: we will minimize the reconstruction error of the autoencoder across our training data. We use a loss function called ```MSELoss```, which computes the square error at every pixel."
   ]
  },
  {
   "cell_type": "code",
   "execution_count": 50,
   "metadata": {},
   "outputs": [],
   "source": [
    "# specify loss function\n",
    "criterion = nn.MSELoss()\n",
    "\n",
    "# specify loss function\n",
    "optimizer = torch.optim.Adam(autoencoder.parameters(), lr=0.001)"
   ]
  },
  {
   "cell_type": "code",
   "execution_count": 51,
   "metadata": {},
   "outputs": [
    {
     "name": "stdout",
     "output_type": "stream",
     "text": [
      "Epoch: 1 \tTraining Loss: 5.619568\n",
      "Epoch: 2 \tTraining Loss: 2.895644\n",
      "Epoch: 3 \tTraining Loss: 2.301428\n",
      "Epoch: 4 \tTraining Loss: 1.919472\n",
      "Epoch: 5 \tTraining Loss: 1.737497\n",
      "Epoch: 6 \tTraining Loss: 1.669788\n",
      "Epoch: 7 \tTraining Loss: 1.638515\n",
      "Epoch: 8 \tTraining Loss: 1.586030\n",
      "Epoch: 9 \tTraining Loss: 1.531939\n",
      "Epoch: 10 \tTraining Loss: 1.521207\n",
      "Epoch: 11 \tTraining Loss: 1.513681\n",
      "Epoch: 12 \tTraining Loss: 1.508683\n",
      "Epoch: 13 \tTraining Loss: 1.504673\n",
      "Epoch: 14 \tTraining Loss: 1.501115\n",
      "Epoch: 15 \tTraining Loss: 1.498268\n",
      "Epoch: 16 \tTraining Loss: 1.495739\n",
      "Epoch: 17 \tTraining Loss: 1.493423\n",
      "Epoch: 18 \tTraining Loss: 1.491200\n",
      "Epoch: 19 \tTraining Loss: 1.489174\n",
      "Epoch: 20 \tTraining Loss: 1.487997\n"
     ]
    }
   ],
   "source": [
    "# number of epochs to train the model\n",
    "n_epochs = 20\n",
    "\n",
    "for epoch in range(1, n_epochs+1):\n",
    "    # monitor training loss\n",
    "    train_loss = 0.0\n",
    "    \n",
    "    ###################\n",
    "    # train the model #\n",
    "    ###################\n",
    "    for data in train_loader:\n",
    "        # _ stands in for labels, here\n",
    "        images, _ = data\n",
    "        # flatten images\n",
    "        images = images.view(images.size(0), -1)\n",
    "        # clear the gradients of all optimized variables\n",
    "        optimizer.zero_grad()\n",
    "        # forward pass: compute predicted outputs by passing inputs to the model\n",
    "        outputs = autoencoder(images)\n",
    "        # calculate the loss\n",
    "        loss = criterion(outputs, images)\n",
    "        # backward pass: compute gradient of the loss with respect to model parameters\n",
    "        loss.backward()\n",
    "        # perform a single optimization step (parameter update)\n",
    "        optimizer.step()\n",
    "        # update running training loss\n",
    "        train_loss += loss.item()*images.size(0)\n",
    "            \n",
    "    # print avg training statistics \n",
    "    train_loss = train_loss/len(train_loader)\n",
    "    print('Epoch: {} \\tTraining Loss: {:.6f}'.format(\n",
    "        epoch, \n",
    "        train_loss\n",
    "        ))"
   ]
  },
  {
   "cell_type": "markdown",
   "metadata": {},
   "source": [
    "Below is the code for plotting some of the test images along with their reconstructions. For the most part these look pretty good except for some blurriness in some parts."
   ]
  },
  {
   "cell_type": "code",
   "execution_count": 52,
   "metadata": {},
   "outputs": [
    {
     "data": {
      "image/png": "[encoded data removed]",
      "text/plain": [
       "<Figure size 1800x288 with 20 Axes>"
      ]
     },
     "metadata": {
      "needs_background": "light"
     },
     "output_type": "display_data"
    }
   ],
   "source": [
    "# obtain one batch of test images\n",
    "dataiter = iter(test_loader)\n",
    "images, labels = dataiter.next()\n",
    "\n",
    "images_flatten = images.view(images.size(0), -1)\n",
    "# get sample outputs\n",
    "output = autoencoder(images_flatten)\n",
    "# prep images for display\n",
    "images = images.numpy()\n",
    "\n",
    "# output is resized into a batch of images\n",
    "output = output.view(batch_size, 1, 28, 28)\n",
    "# use detach when it's an output that requires_grad\n",
    "output = output.detach().numpy()\n",
    "\n",
    "# plot the first ten input images and then reconstructed images\n",
    "fig, axes = plt.subplots(nrows=2, ncols=10, sharex=True, sharey=True, figsize=(25,4))\n",
    "\n",
    "# input images on top row, reconstructions on bottom\n",
    "for images, row in zip([images, output], axes):\n",
    "    for img, ax in zip(images, row):\n",
    "        ax.imshow(np.squeeze(img), cmap='gray')\n",
    "        ax.get_xaxis().set_visible(False)\n",
    "        ax.get_yaxis().set_visible(False)"
   ]
  },
  {
   "cell_type": "markdown",
   "metadata": {},
   "source": [
    "#### EXTRA: Could you create an autoencoder with a more complex architecture (add additional layers)?"
   ]
  },
  {
   "cell_type": "code",
   "execution_count": null,
   "metadata": {},
   "outputs": [],
   "source": []
  },
  {
   "cell_type": "markdown",
   "metadata": {},
   "source": [
    "## Preview: Convolutional Neural Networks"
   ]
  },
  {
   "cell_type": "markdown",
   "metadata": {},
   "source": [
    "Regular neural networks receive an input (a single vector), and transform it through a series of hidden layers. Each hidden layer is made up of a set of neurons, where each neuron is fully connected to all neurons in the previous layer, and where neurons in a single layer function completely independently and do not share any connections. The last fully-connected layer is called the “output layer” and in classification settings it represents the class scores.\n",
    "\n",
    "Regular neural nets don’t scale well to full images. In MNIST, images are only of size 28*28 (28 wide, 28 high, 1 color channels), so a single fully-connected neuron in a first hidden layer of a regular Neural Network would have 28*28 = 784 weights. This amount still seems manageable, but clearly this fully-connected structure does not scale to larger images. For example, an image of more respectable size, e.g. 200x200x3 (3 colour channels), would lead to neurons that have 200*200*3 = 120,000 weights. Moreover, we would almost certainly want to have several such neurons, so the parameters would add up quickly! This full connectivity is difficult for imagery and the huge number of parameters would quickly lead to overfitting."
   ]
  },
  {
   "cell_type": "markdown",
   "metadata": {},
   "source": [
    "We'll look at convolutions and CNN-specific layers next week. For this example, we'll use two convolutional layers."
   ]
  },
  {
   "cell_type": "code",
   "execution_count": 34,
   "metadata": {},
   "outputs": [],
   "source": [
    "# Convolutional neural network (two convolutional layers)\n",
    "class ConvNet(nn.Module):\n",
    "    def __init__(self, num_classes=10):\n",
    "        super(ConvNet, self).__init__()\n",
    "        self.layer1 = nn.Sequential(\n",
    "            nn.Conv2d(1, 16, kernel_size=5, stride=1, padding=2), # Convolutional layer\n",
    "            nn.BatchNorm2d(16),\n",
    "            nn.ReLU(),\n",
    "            nn.MaxPool2d(kernel_size=2, stride=2))\n",
    "        self.layer2 = nn.Sequential(\n",
    "            nn.Conv2d(16, 32, kernel_size=5, stride=1, padding=2),\n",
    "            nn.BatchNorm2d(32),\n",
    "            nn.ReLU(),\n",
    "            nn.MaxPool2d(kernel_size=2, stride=2))\n",
    "        self.fc = nn.Linear(7*7*32, num_classes)\n",
    "        \n",
    "    def forward(self, x):\n",
    "        out = self.layer1(x)\n",
    "        out = self.layer2(out)\n",
    "        out = out.reshape(out.size(0), -1)\n",
    "        out = self.fc(out)\n",
    "        return out"
   ]
  },
  {
   "cell_type": "code",
   "execution_count": 35,
   "metadata": {},
   "outputs": [],
   "source": [
    "cnn = ConvNet(num_classes).to(device)\n",
    "\n",
    "# Loss and optimizer\n",
    "criterion = nn.CrossEntropyLoss()\n",
    "optimizer = torch.optim.Adam(cnn.parameters(), lr=learning_rate)"
   ]
  },
  {
   "cell_type": "code",
   "execution_count": 36,
   "metadata": {},
   "outputs": [
    {
     "name": "stdout",
     "output_type": "stream",
     "text": [
      "Epoch [1/5], Step [100/600], Loss: 0.5370\n",
      "Epoch [1/5], Step [200/600], Loss: 0.3088\n",
      "Epoch [1/5], Step [300/600], Loss: 0.1727\n",
      "Epoch [1/5], Step [400/600], Loss: 0.0889\n",
      "Epoch [1/5], Step [500/600], Loss: 0.1861\n",
      "Epoch [1/5], Step [600/600], Loss: 0.1217\n",
      "Epoch [2/5], Step [100/600], Loss: 0.0804\n",
      "Epoch [2/5], Step [200/600], Loss: 0.1441\n",
      "Epoch [2/5], Step [300/600], Loss: 0.1277\n",
      "Epoch [2/5], Step [400/600], Loss: 0.0987\n",
      "Epoch [2/5], Step [500/600], Loss: 0.0538\n",
      "Epoch [2/5], Step [600/600], Loss: 0.1307\n",
      "Epoch [3/5], Step [100/600], Loss: 0.0840\n",
      "Epoch [3/5], Step [200/600], Loss: 0.3337\n",
      "Epoch [3/5], Step [300/600], Loss: 0.0817\n",
      "Epoch [3/5], Step [400/600], Loss: 0.2264\n",
      "Epoch [3/5], Step [500/600], Loss: 0.0782\n",
      "Epoch [3/5], Step [600/600], Loss: 0.1604\n",
      "Epoch [4/5], Step [100/600], Loss: 0.0415\n",
      "Epoch [4/5], Step [200/600], Loss: 0.0905\n",
      "Epoch [4/5], Step [300/600], Loss: 0.0706\n",
      "Epoch [4/5], Step [400/600], Loss: 0.1633\n",
      "Epoch [4/5], Step [500/600], Loss: 0.1416\n",
      "Epoch [4/5], Step [600/600], Loss: 0.0878\n",
      "Epoch [5/5], Step [100/600], Loss: 0.0235\n",
      "Epoch [5/5], Step [200/600], Loss: 0.1112\n",
      "Epoch [5/5], Step [300/600], Loss: 0.0874\n",
      "Epoch [5/5], Step [400/600], Loss: 0.0238\n",
      "Epoch [5/5], Step [500/600], Loss: 0.2761\n",
      "Epoch [5/5], Step [600/600], Loss: 0.0609\n"
     ]
    }
   ],
   "source": [
    "# Train the model\n",
    "total_step = len(train_loader)\n",
    "for epoch in range(num_epochs):\n",
    "    for i, (images, labels) in enumerate(train_loader):\n",
    "        images = images.to(device)\n",
    "        labels = labels.to(device)\n",
    "        \n",
    "        # Forward pass\n",
    "        outputs = cnn(images)\n",
    "        loss = criterion(outputs, labels)\n",
    "        \n",
    "        # Backward and optimize\n",
    "        optimizer.zero_grad()\n",
    "        loss.backward()\n",
    "        optimizer.step()\n",
    "        \n",
    "        if (i+1) % 100 == 0:\n",
    "            print ('Epoch [{}/{}], Step [{}/{}], Loss: {:.4f}' \n",
    "                   .format(epoch+1, num_epochs, i+1, total_step, loss.item()))\n"
   ]
  },
  {
   "cell_type": "code",
   "execution_count": 38,
   "metadata": {},
   "outputs": [
    {
     "name": "stdout",
     "output_type": "stream",
     "text": [
      "Test Accuracy of the model on the 10000 test images: 97.3 %\n"
     ]
    }
   ],
   "source": [
    "# Test the model\n",
    "model.eval()  # eval mode (batchnorm uses moving mean/variance instead of mini-batch mean/variance)\n",
    "with torch.no_grad():\n",
    "    correct = 0\n",
    "    total = 0\n",
    "    for images, labels in test_loader:\n",
    "        images = images.to(device)\n",
    "        labels = labels.to(device)\n",
    "        outputs = cnn(images)\n",
    "        _, predicted = torch.max(outputs.data, 1)\n",
    "        total += labels.size(0)\n",
    "        correct += (predicted == labels).sum().item()\n",
    "\n",
    "    print('Test Accuracy of the model on the 10000 test images: {} %'.format(100 * correct / total))\n",
    "\n",
    "# Save the model checkpoint\n",
    "torch.save(cnn.state_dict(), 'cnn_model.ckpt')"
   ]
  },
  {
   "cell_type": "markdown",
   "metadata": {},
   "source": [
    "Wow! The magic of convolutional layers: 97%"
   ]
  },
  {
   "cell_type": "code",
   "execution_count": 30,
   "metadata": {},
   "outputs": [
    {
     "data": {
      "text/plain": [
       "ConvNet(\n",
       "  (layer1): Sequential(\n",
       "    (0): Conv2d(1, 16, kernel_size=(5, 5), stride=(1, 1), padding=(2, 2))\n",
       "    (1): BatchNorm2d(16, eps=1e-05, momentum=0.1, affine=True, track_running_stats=True)\n",
       "    (2): ReLU()\n",
       "    (3): MaxPool2d(kernel_size=2, stride=2, padding=0, dilation=1, ceil_mode=False)\n",
       "  )\n",
       "  (layer2): Sequential(\n",
       "    (0): Conv2d(16, 32, kernel_size=(5, 5), stride=(1, 1), padding=(2, 2))\n",
       "    (1): BatchNorm2d(32, eps=1e-05, momentum=0.1, affine=True, track_running_stats=True)\n",
       "    (2): ReLU()\n",
       "    (3): MaxPool2d(kernel_size=2, stride=2, padding=0, dilation=1, ceil_mode=False)\n",
       "  )\n",
       "  (fc): Linear(in_features=1568, out_features=10, bias=True)\n",
       ")"
      ]
     },
     "execution_count": 30,
     "metadata": {},
     "output_type": "execute_result"
    }
   ],
   "source": [
    "#Load model (after saving it)\n",
    "cnn.load_state_dict(torch.load('cnn_model.ckpt'))\n",
    "cnn.eval()"
   ]
  },
  {
   "cell_type": "markdown",
   "metadata": {},
   "source": [
    "More about CNNs next week!"
   ]
  },
  {
   "cell_type": "markdown",
   "metadata": {},
   "source": [
    "### References and additional resources:\n",
    "\n",
    " - THE deep learning book: https://www.deeplearningbook.org/\n",
    " - Pytorch: https://pytorch.org/tutorials/beginner/pytorch_with_examples.html\n",
    " - Autoencoder: https://www.jeremyjordan.me/autoencoders/\n",
    " - Neural network playground (try different hyperparameters and see what happens): https://developers.google.com/machine-learning/crash-course/introduction-to-neural-networks/playground-exercises\n",
    " - CNNs: https://cs231n.github.io/convolutional-networks/"
   ]
  },
  {
   "cell_type": "code",
   "execution_count": null,
   "metadata": {},
   "outputs": [],
   "source": []
  }
 ],
 "metadata": {
  "kernelspec": {
   "display_name": "Python 3",
   "language": "python",
   "name": "python3"
  },
  "language_info": {
   "codemirror_mode": {
    "name": "ipython",
    "version": 3
   },
   "file_extension": ".py",
   "mimetype": "text/x-python",
   "name": "python",
   "nbconvert_exporter": "python",
   "pygments_lexer": "ipython3",
   "version": "3.6.10"
  }
 },
 "nbformat": 4,
 "nbformat_minor": 4
}
