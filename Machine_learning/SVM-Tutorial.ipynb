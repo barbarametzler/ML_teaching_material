{
 "cells": [
  {
   "cell_type": "markdown",
   "metadata": {},
   "source": [
    "## Support Vector Machines and more"
   ]
  },
  {
   "cell_type": "markdown",
   "metadata": {},
   "source": [
    "This exercise can be attempted in R or Python. The solution and hints are in R, though."
   ]
  },
  {
   "cell_type": "markdown",
   "metadata": {},
   "source": [
    "**Outline**\n",
    "- Recap of logistic regression\n",
    "- Poission regression model\n",
    "- Example of SVMs\n",
    "- Exercises\n",
    "- Extra Resources\n",
    "\n",
    "\n",
    "**Poisson regression**\n",
    "\n",
    "Poisson regression, also known as a log-linear model that is used when your outcome variable is a count. Examples of count variables in research include how many heart attacks or strokes one has had, how many days in the past month one’s used [insert your favorite illicit substance here], or, as in survival analysis, how many days from outbreak until infection. The Poisson distribution is unique in that its mean and its variance are equal. This is often due to zero inflation. Sometimes two processes may be at work: one that determines whether or not an event happens at all and another that determines how many times the event happens when it does. Using our count variables from above, this could be a sample that contains individuals with and without heart disease: those without heart disease cause a disproportionate amount of zeros in the data and those with heart disease trail off in a tail to the right with increasing amounts of heart attacks. This is why logistic and Poisson regressions go together in research: there is a dichotomous outcome inherent in a Poisson distribution. However, the “hits” in the logistic question can’t be understood without further conducting the Poisson regression.\n",
    "\n",
    "**Support Vector Machines/ Classification**\n",
    "\n",
    "Support-vector machines are supervised learning models that analyse data used for classification and regression analysis.\n",
    "The objective of the support vector machine algorithm is to find a hyperplane in an N-dimensional space(N — the number of features) that distinctly classifies the data points. To separate the two classes of data points, there are many possible hyperplanes that could be chosen. Our objective is to find a plane that has the maximum margin, i.e the maximum distance between data points of both classes. Maximizing the margin distance provides some reinforcement so that future data points can be classified with more confidence. \n",
    "Hyperplanes are decision boundaries that help classify the data points. Data points falling on either side of the hyperplane can be attributed to different classes. Also, the dimension of the hyperplane depends upon the number of features. If the number of input features is 2, then the hyperplane is just a line. If the number of input features is 3, then the hyperplane becomes a two-dimensional plane, etc.\n",
    "\n",
    "\n",
    "## Data\n",
    "This tutorial will use the Framingham dataset, which you should be familiar with by now.\n",
    "\n",
    "**Cleaning the data**\n",
    "\n",
    "Same as last time: remove NaNs, change the categorical variables to factors and remove outliers that are beyond 1.5 * IQR of cholestorol and glucose. If you want to try, you can create 10 year interval categories for the age column.\n",
    "\n",
    "**Scaling the data**\n",
    "\n",
    "In general, SVM classifers work better when the data is in the same magnitude. The main advantage of standardizing is to avoid attributes in greater numeric ranges dominating those in smaller numeric ranges. Another advantage is to avoid numerical difficulties during the calculation. Because kernel values usually depend on the inner products of feature vectors, e.g. the linear kernel and the polynomial kernel, large attribute values might cause numerical problems. \n",
    "\n",
    "Don't forget to use the train mean/std to standardize your train and test set. \n",
    "\n",
    "\n",
    "**Balancing the data**\n",
    "\n",
    "By attempting the exercises below, you will find out that our dataset needs some balancing. We will be using the ```ovun.sample``` function of the R library(ROSE). More infos later.. https://www.rdocumentation.org/packages/ROSE/versions/0.0-3/topics/ovun.sample\n",
    "\n",
    "\n",
    "Let's go!"
   ]
  },
  {
   "cell_type": "markdown",
   "metadata": {},
   "source": [
    "#### A) Preprocess the data, remove outliers and NaNs\n",
    "\n",
    "As we already did in our last tutorial (Week 2), please preprocess the data by changing the variables to factors, removing NaNs and outliers. You could add the age as 10 year interval categorical variable."
   ]
  },
  {
   "cell_type": "code",
   "execution_count": 7,
   "metadata": {},
   "outputs": [
    {
     "name": "stderr",
     "output_type": "stream",
     "text": [
      "── \u001b[1mAttaching packages\u001b[22m ───────────────────────────────────────────────────────────────────────────────── tidyverse 1.3.0 ──\n",
      "\n",
      "\u001b[32m✔\u001b[39m \u001b[34mtibble \u001b[39m 3.0.4     \u001b[32m✔\u001b[39m \u001b[34mdplyr  \u001b[39m 1.0.2\n",
      "\u001b[32m✔\u001b[39m \u001b[34mtidyr  \u001b[39m 1.1.2     \u001b[32m✔\u001b[39m \u001b[34mstringr\u001b[39m 1.4.0\n",
      "\u001b[32m✔\u001b[39m \u001b[34mreadr  \u001b[39m 1.4.0     \u001b[32m✔\u001b[39m \u001b[34mforcats\u001b[39m 0.5.0\n",
      "\u001b[32m✔\u001b[39m \u001b[34mpurrr  \u001b[39m 0.3.4     \n",
      "\n",
      "── \u001b[1mConflicts\u001b[22m ──────────────────────────────────────────────────────────────────────────────────── tidyverse_conflicts() ──\n",
      "\u001b[31m✖\u001b[39m \u001b[34mdplyr\u001b[39m::\u001b[32mfilter()\u001b[39m masks \u001b[34mstats\u001b[39m::filter()\n",
      "\u001b[31m✖\u001b[39m \u001b[34mdplyr\u001b[39m::\u001b[32mlag()\u001b[39m    masks \u001b[34mstats\u001b[39m::lag()\n",
      "\n",
      "Registered S3 method overwritten by 'GGally':\n",
      "  method from   \n",
      "  +.gg   ggplot2\n",
      "\n",
      "Type 'citation(\"pROC\")' for a citation.\n",
      "\n",
      "\n",
      "Attaching package: ‘pROC’\n",
      "\n",
      "\n",
      "The following objects are masked from ‘package:stats’:\n",
      "\n",
      "    cov, smooth, var\n",
      "\n",
      "\n"
     ]
    }
   ],
   "source": [
    "library(ggplot2)\n",
    "library(tidyverse)\n",
    "library(caTools)\n",
    "library(dplyr)\n",
    "library(e1071)\n",
    "library(GGally)\n",
    "library(ROCR)\n",
    "\n",
    "library(sjPlot)\n",
    "#library(sjlabelled)\n",
    "#library(sjmisc)\n",
    "\n",
    "library(pROC)\n"
   ]
  },
  {
   "cell_type": "code",
   "execution_count": 500,
   "metadata": {},
   "outputs": [],
   "source": [
    "## Read in comma seperated Framingham file\n",
    "\n",
    "df <- read.csv(\"framingham.csv\")"
   ]
  },
  {
   "cell_type": "markdown",
   "metadata": {},
   "source": [
    "##### i) Create train and test splits of the dataset (75/25)\n",
    "\n",
    "Create a train and test dataset."
   ]
  },
  {
   "cell_type": "markdown",
   "metadata": {},
   "source": [
    "### B) Modelling"
   ]
  },
  {
   "cell_type": "markdown",
   "metadata": {},
   "source": [
    "##### i) Recap: Fit a logistic regression of the development of coronary heart disease within 10 years and all other variables."
   ]
  },
  {
   "cell_type": "markdown",
   "metadata": {},
   "source": [
    "##### a. What's the probability of ten year CHD?"
   ]
  },
  {
   "cell_type": "markdown",
   "metadata": {},
   "source": [
    "##### b. Make predictions based on the test set"
   ]
  },
  {
   "cell_type": "markdown",
   "metadata": {},
   "source": [
    "##### c. Create a confusion matrix and plot the ROC curve"
   ]
  },
  {
   "cell_type": "markdown",
   "metadata": {},
   "source": [
    " ##### ii) Fit a Poisson logistic regression of the count of cigarettes and all other variables.\n",
    " \n",
    "Poisson regression is similar to regular multiple regression except that the dependent (Y) variable is an observed\n",
    "count that follows the Poisson distribution. Thus, the possible values of Y are the non-negative integers: 0, 1, 2, 3, and so on. It is assumed that large counts are rare. Hence, Poisson regression is similar to logistic regression, which also has a discrete response variable. However, the response is not limited to specific values as it is in logistic regression. \n",
    "\n",
    "Hint: use ```family  = poisson(link = \"log\")``` in your GLM model. "
   ]
  },
  {
   "cell_type": "markdown",
   "metadata": {},
   "source": [
    "##### a. Make predictions based on the test set and calculate the mean average error (MAE)"
   ]
  },
  {
   "cell_type": "markdown",
   "metadata": {},
   "source": [
    "#### iii) Support Vector Machine (SVM): Classification\n",
    "\n",
    "\n",
    "Support vector machines (SVMs) are a set of supervised learning methods used for classification, regression and outliers detection.\n",
    "\n",
    "The advantages of support vector machines are:\n",
    "\n",
    "    - Effective in high dimensional spaces.\n",
    "    - Still effective in cases where number of dimensions is greater than the number of samples.\n",
    "    - Uses a subset of training points in the decision function (called support vectors), so it is also memory efficient.\n",
    "    - Versatile: different Kernel functions can be specified for the decision function. Common kernels are provided, but it is also possible to specify custom kernels.\n",
    "\n",
    "The disadvantages of support vector machines include:\n",
    "    - If the number of features is much greater than the number of samples, avoid over-fitting in choosing Kernel functions and regularization term is crucial.\n",
    "    - SVMs do not directly provide probability estimates, these can be calculated using an expensive five-fold cross-validation.\n",
    "\n",
    "\n",
    "Run the code below to create an example dataset with two classes (-1 and +1) for demonstration purposes. The code shows how the hyperplane can devide the dataset for SVM classification."
   ]
  },
  {
   "cell_type": "code",
   "execution_count": 8,
   "metadata": {},
   "outputs": [],
   "source": [
    "set.seed(1)\n",
    "x = matrix(rnorm(20*2), ncol=2)\n",
    "class = c(rep(-1,10), rep(1,10))\n",
    "x[class == 1,] = x[class == 1,] + 1"
   ]
  },
  {
   "cell_type": "code",
   "execution_count": 9,
   "metadata": {},
   "outputs": [
    {
     "data": {
      "image/png": "[encoded data removed]",
      "text/plain": [
       "plot without title"
      ]
     },
     "metadata": {
      "image/png": {
       "height": 420,
       "width": 420
      }
     },
     "output_type": "display_data"
    }
   ],
   "source": [
    "ggplot(data.frame(x), aes(X1, X2, colour = factor(class))) +\n",
    "  geom_point()"
   ]
  },
  {
   "cell_type": "code",
   "execution_count": 10,
   "metadata": {},
   "outputs": [
    {
     "data": {
      "image/png": "[encoded data removed]",
      "text/plain": [
       "Plot with title “SVM classification plot”"
      ]
     },
     "metadata": {
      "image/png": {
       "height": 420,
       "width": 420
      }
     },
     "output_type": "display_data"
    }
   ],
   "source": [
    "training_data = data.frame(x = x, class = as.factor(class))\n",
    "\n",
    "# Fit Support Vector Machine model to data set\n",
    "svmfit <- svm(class~., data = training_data, kernel = \"linear\", scale = FALSE)\n",
    "# Plot Results\n",
    "plot(svmfit, training_data)"
   ]
  },
  {
   "cell_type": "markdown",
   "metadata": {},
   "source": [
    "The region of feature space that will be assigned to the −1 class is shown in light yellow, and the region that will be assigned to the +1 class is shown in dark red. The decision boundary between the two classes is linear (because we used the argument kernel = \"linear\"), though due to the way in which the plotting function is implemented in this library the decision boundary looks somewhat jagged in the plot. (Note also that the second feature is plotted on the x-axis and the first feature is plotted on the y-axis, in contrast to the behavior of the usual plot() function in R.)\n",
    "\n",
    "The support vectors are plotted as crosses and the remaining observations are plotted as circles; we see here that there are 10 support vectors. We can determine their identities as follows:"
   ]
  },
  {
   "cell_type": "code",
   "execution_count": 11,
   "metadata": {},
   "outputs": [
    {
     "data": {
      "text/html": [
       "<style>\n",
       ".list-inline {list-style: none; margin:0; padding: 0}\n",
       ".list-inline>li {display: inline-block}\n",
       ".list-inline>li:not(:last-child)::after {content: \"\\00b7\"; padding: 0 .5ex}\n",
       "</style>\n",
       "<ol class=list-inline><li>1</li><li>2</li><li>5</li><li>7</li><li>10</li><li>13</li><li>14</li><li>15</li><li>16</li><li>17</li></ol>\n"
      ],
      "text/latex": [
       "\\begin{enumerate*}\n",
       "\\item 1\n",
       "\\item 2\n",
       "\\item 5\n",
       "\\item 7\n",
       "\\item 10\n",
       "\\item 13\n",
       "\\item 14\n",
       "\\item 15\n",
       "\\item 16\n",
       "\\item 17\n",
       "\\end{enumerate*}\n"
      ],
      "text/markdown": [
       "1. 1\n",
       "2. 2\n",
       "3. 5\n",
       "4. 7\n",
       "5. 10\n",
       "6. 13\n",
       "7. 14\n",
       "8. 15\n",
       "9. 16\n",
       "10. 17\n",
       "\n",
       "\n"
      ],
      "text/plain": [
       " [1]  1  2  5  7 10 13 14 15 16 17"
      ]
     },
     "metadata": {},
     "output_type": "display_data"
    }
   ],
   "source": [
    "svmfit$index"
   ]
  },
  {
   "cell_type": "markdown",
   "metadata": {},
   "source": [
    "To obtain a summaryy of the classifier we can use following command:"
   ]
  },
  {
   "cell_type": "code",
   "execution_count": 287,
   "metadata": {},
   "outputs": [
    {
     "data": {
      "text/plain": [
       "\n",
       "Call:\n",
       "svm(formula = class ~ ., data = training_data, kernel = \"linear\", \n",
       "    scale = FALSE)\n",
       "\n",
       "\n",
       "Parameters:\n",
       "   SVM-Type:  C-classification \n",
       " SVM-Kernel:  linear \n",
       "       cost:  1 \n",
       "\n",
       "Number of Support Vectors:  10\n",
       "\n",
       " ( 5 5 )\n",
       "\n",
       "\n",
       "Number of Classes:  2 \n",
       "\n",
       "Levels: \n",
       " -1 1\n",
       "\n",
       "\n"
      ]
     },
     "metadata": {},
     "output_type": "display_data"
    }
   ],
   "source": [
    "summary(svmfit)"
   ]
  },
  {
   "cell_type": "markdown",
   "metadata": {},
   "source": [
    "In order to fit an SVM using a non-linear kernel, we once again use the svm() function. However, now we use a different value of the parameter kernel. To fit an SVM with a polynomial kernel we use ```kernel=\"polynomial\"```, and to fit an SVM with a radial kernel we use ```kernel=\"radial\"```. In the former case we also use the degree argument to specify a degree for the polynomial kernel, and in the latter case we use gamma to specify a value of  γ  for the radial basis kernel.\n",
    "\n",
    "Intuitively, the gamma parameter defines how far the influence of a single training example reaches, with low values meaning ‘far’ and high values meaning ‘close’. The gamma parameters can be seen as the inverse of the radius of influence of samples selected by the model as support vectors. (https://scikit-learn.org/stable/auto_examples/svm/plot_rbf_parameters.html)\n",
    "\n",
    "Let's fit the same test data to a SVM classifier with 'radial' kernel."
   ]
  },
  {
   "cell_type": "code",
   "execution_count": 288,
   "metadata": {
    "scrolled": true
   },
   "outputs": [
    {
     "data": {
      "image/png": "[encoded data removed]",
      "text/plain": [
       "Plot with title “SVM classification plot”"
      ]
     },
     "metadata": {
      "image/png": {
       "height": 600,
       "width": 960
      }
     },
     "output_type": "display_data"
    }
   ],
   "source": [
    "# Fit Support Vector Machine model to data set\n",
    "svmfit <- svm(class~., data = training_data, kernel = \"radial\", scale = FALSE)\n",
    "# Plot Results\n",
    "plot(svmfit, training_data)"
   ]
  },
  {
   "cell_type": "markdown",
   "metadata": {},
   "source": [
    "Here we can clearly see the non-linear nature of the hyperplane that devides the two classes."
   ]
  },
  {
   "cell_type": "markdown",
   "metadata": {},
   "source": [
    "### SVMs and Framingham data\n",
    "\n",
    "Let's try to create a SVM classifier for our Framingham dataset. In general, SVM classifers work better when the data is in the same magnitude. The main advantage of standarization is to avoid attributes in greater numeric ranges dominating those in smaller numeric ranges. "
   ]
  },
  {
   "cell_type": "markdown",
   "metadata": {},
   "source": [
    "#### Split the dataframe into train/test (75/25 %) "
   ]
  },
  {
   "cell_type": "markdown",
   "metadata": {},
   "source": [
    "##### Standardize the columns: cigsPerDay, totChol, diaBP, sysBP, BMI, heartRate, glucose (Hint: use the train mean/std for scaling the test data)"
   ]
  },
  {
   "cell_type": "markdown",
   "metadata": {},
   "source": [
    "##### a. Create a SVM to predict coronary heart disease from glucose and diaBP."
   ]
  },
  {
   "cell_type": "markdown",
   "metadata": {},
   "source": [
    "##### b. Get the parameters of the hyperplane of your linear SVM model (w and b of the decision boundary defined as $w^Tx+b=0$, where w is the feature weight vector of the support vectors and b is the bias."
   ]
  },
  {
   "cell_type": "markdown",
   "metadata": {},
   "source": [
    "##### c. How would you define the hyperplane in our  2D model (a model with two variables: x1, x2)?"
   ]
  },
  {
   "cell_type": "markdown",
   "metadata": {},
   "source": [
    "##### d. Create a svm plot with glucose and diabolic blood pressure as x and y axis\n",
    "\n",
    "Describe the plot? Why do you think this happened?"
   ]
  },
  {
   "cell_type": "markdown",
   "metadata": {},
   "source": [
    "#### d.I EXTRA:  Plot bar plot of counts of TenYearCHD. Are they balanced?"
   ]
  },
  {
   "cell_type": "markdown",
   "metadata": {},
   "source": [
    "#### e. Balance the dataset \n",
    "Hint: use the library(ROSE) to oversample the training set \n"
   ]
  },
  {
   "cell_type": "markdown",
   "metadata": {},
   "source": [
    "##### f. Now create a new SVM classifier, but this time with a 'radial' kernel and plot again"
   ]
  },
  {
   "cell_type": "markdown",
   "metadata": {},
   "source": [
    "##### g. Try a 'sigmoid' kernel to the model and plot again"
   ]
  },
  {
   "cell_type": "markdown",
   "metadata": {},
   "source": [
    "What's the difference between the kernels? Describe the plots."
   ]
  },
  {
   "cell_type": "markdown",
   "metadata": {},
   "source": [
    "#### Soft margins and class weights"
   ]
  },
  {
   "cell_type": "markdown",
   "metadata": {},
   "source": [
    "In this soft margin SVM, data points on the incorrect side of the margin boundary have a penalty that increases with the distance from it. As we are trying to reduce the number of misclassications, a sensible way to adapt our objective function $\\frac{1}{2}\\|w\\|^2$, is to minimise\n",
    "$\\frac{1}{2}\\|w\\|^2 + C \\sum_i \\xi_i$\n",
    "obyeing the relaxed restrictions, where C controls the trade-off between the slack variable penalty and the size of the margin. A value C much larger than 0 converges to the original SVM algorithm. Unfortunately the optimal value of C must come from trial and error."
   ]
  },
  {
   "cell_type": "markdown",
   "metadata": {},
   "source": [
    "An important variant is when we consider one type of error more costly than the other (say, in a medical test for cancer, we prefer a false positive than a false negative, since in the later a sick patient will go untreated). To solve it, we assign different costs to each class:\n",
    "$\\frac{1}{2}\\|w\\|^2 + C_+ \\sum_{i_+} \\xi_i + C_- \\sum_{i_-} \\xi_i$\n",
    "\n",
    "where $i_$ are the indexes where $y_i=−1$, and $i_+$ for $y_i=+1$.\n",
    "\n",
    "This is done at R’s ```svm()``` with option ```class.weights```."
   ]
  },
  {
   "cell_type": "code",
   "execution_count": 622,
   "metadata": {},
   "outputs": [
    {
     "data": {
      "text/plain": [
       "\n",
       "   No   Yes \n",
       "1e+10 1e+00 "
      ]
     },
     "metadata": {},
     "output_type": "display_data"
    }
   ],
   "source": [
    "costs <- table(train$TenYearCHD)  # the weight vector must be named with the names of the classes\n",
    "costs[1] <- 1e10 # a class -1 mismatch has a terrible cost\n",
    "costs[2] <- 1    # a class +1 mismatch not so much...\n",
    "costs"
   ]
  },
  {
   "cell_type": "markdown",
   "metadata": {},
   "source": [
    "##### h. Add the costs as class.weights to the previous model"
   ]
  },
  {
   "cell_type": "markdown",
   "metadata": {},
   "source": [
    "##### i. Finally, create the same models as we did with the two variables, but this time include all variables.\n",
    "\n",
    "In real life, we would always include all the data we have (especially if it's such a relatively small dataset).These exercises were just illustrative so you could see what these SVM plots with hyperplanes would look like."
   ]
  },
  {
   "cell_type": "markdown",
   "metadata": {},
   "source": [
    "#### i. Tune the models with different kernels to find the best hyperparameters (Hint: the ```tune.svm``` function might help you here)\n",
    "#### i. Re-run the models with the best hyperparameters"
   ]
  },
  {
   "cell_type": "markdown",
   "metadata": {},
   "source": [
    "### iv) Model prediction"
   ]
  },
  {
   "cell_type": "markdown",
   "metadata": {},
   "source": [
    "##### a. Make predictions on the test set with all models"
   ]
  },
  {
   "cell_type": "markdown",
   "metadata": {},
   "source": [
    "##### b. Create confusion matrices for all models"
   ]
  },
  {
   "cell_type": "markdown",
   "metadata": {},
   "source": [
    "##### c. Print accuracy, sensitivity and specificity of all models"
   ]
  },
  {
   "cell_type": "markdown",
   "metadata": {},
   "source": [
    "##### d. Plot the ROC curves for all models"
   ]
  },
  {
   "cell_type": "markdown",
   "metadata": {},
   "source": [
    "##### e. Comment on the models. How does the SVM classification compare to the logistic regression in this case?"
   ]
  },
  {
   "cell_type": "markdown",
   "metadata": {},
   "source": [
    "#### References/Additional reading\n",
    "\n",
    "- Poisson regression: \n",
    "    * https://towardsdatascience.com/an-illustrated-guide-to-the-poisson-regression-model-50cccba15958 (python)\n",
    "\n",
    "    * Further examples: https://stats.idre.ucla.edu/r/dae/poisson-regression/\n",
    "\n",
    "- SVMs: \n",
    "    * https://towardsdatascience.com/support-vector-machine-simply-explained-fee28eba5496\n",
    "    * 1An Idiot’s guide to support vector machines (SVMs): http://web.mit.edu/6.034/wwwbob/svm-notes-long-08.pdf\n",
    "\n",
    "    * https://scikit-learn.org/stable/modules/svm.html (python)\n",
    "    \n",
    "    * Datacamp: https://www.datacamp.com/courses/support-vector-machines-in-r (R)\n"
   ]
  },
  {
   "cell_type": "code",
   "execution_count": null,
   "metadata": {},
   "outputs": [],
   "source": []
  }
 ],
 "metadata": {
  "kernelspec": {
   "display_name": "R",
   "language": "R",
   "name": "ir"
  },
  "language_info": {
   "codemirror_mode": "r",
   "file_extension": ".r",
   "mimetype": "text/x-r-source",
   "name": "R",
   "pygments_lexer": "r",
   "version": "3.6.3"
  }
 },
 "nbformat": 4,
 "nbformat_minor": 4
}
